{
 "cells": [
  {
   "cell_type": "code",
   "execution_count": 15,
   "metadata": {},
   "outputs": [],
   "source": [
    "import os\n",
    "import openai\n",
    "from dotenv import load_dotenv, find_dotenv\n",
    "_ = load_dotenv(find_dotenv()) # read local .env file\n",
    "\n",
    "openai.api_key  = os.getenv('AOAI_API_KEY')\n",
    "openai.api_type = \"azure\"\n",
    "openai.api_base = os.getenv('AOAI_ENDPOINT')\n",
    "openai.api_version = \"2023-05-15\"\n",
    "\n",
    "def get_completion_from_messages(messages,temperature=0):\n",
    "    response = openai.ChatCompletion.create(\n",
    "        engine=os.getenv('AOAI_MODEL'),\n",
    "        messages=messages,\n",
    "        temperature=temperature, # this is the degree of randomness of the model's output\n",
    "    )\n",
    "\n",
    "    print(response.usage)\n",
    "\n",
    "    return response.choices[0].message[\"content\"]"
   ]
  },
  {
   "cell_type": "code",
   "execution_count": 10,
   "metadata": {},
   "outputs": [
    {
     "data": {
      "text/plain": [
       "'こんにちは。洗濯機が壊れたことに関する相談、ありがとうございました。 \\r\\n\\r\\n洗濯機が壊れてしまったことは大変申し訳ありません。 保証期間内ですので、無償で修理させていただきます。 \\r\\n\\r\\n修理の手順は以下の通りです。\\r\\n\\r\\n1.\\tお客様のお住まいの地域にある修理センターにお電話ください。電話番号は以下のリンクからご確認いただけます。\\r\\n2.\\t修理センターの担当者が、洗濯機の型番と故障状況をお伺いします。また、修理日時と修理費用（無料）をお知らせします。\\r\\n3.\\t修理日時に合わせて、修理センターから派遣された技術者がお客様のご自宅に伺います。技術者が洗濯機を点検し、修理します。\\r\\n4.\\t修理が完了したら、技術者が動作確認を行います。また、修理内容と保証書をお渡しします。\\r\\n5.\\t修理後も万が一不具合が発生した場合は、再度修理センターにご連絡ください。迅速に対応させていただきます。\\r\\n\\r\\n\\r\\n\\r\\n以上が修理の手順です。ご不明な点がありましたら、お気軽にお問い合わせください。 ご迷惑をおかけして申し訳ありませんが、何卒よろしくお願いします。\\r\\n\\r\\n2023年6月22日(木) 12:19 Shuji Yamaguchi (CSA DEV ADVOCATE) <Shuji.Yamaguchi@microsoft.com <mailto:Shuji.Yamaguchi@microsoft.com> >:\\r\\n\\r\\n\\r\\n\\tこんにちは。先日購入した洗濯機が壊れてしまいました。\\r\\n\\r\\n\\t洗濯中に異音がして止まってしまい、再起動もできませんでした。\\r\\n\\r\\n\\t保証期間内ですが、修理にはどうすればいいでしょうか？ \\r\\n\\r\\n\\t返信をお待ちしています。 よろしくお願いします。\\r\\n\\r\\n'"
      ]
     },
     "execution_count": 10,
     "metadata": {},
     "output_type": "execute_result"
    }
   ],
   "source": [
    "# CSVファイルの読み込み\n",
    "import pandas as pd\n",
    "df = pd.read_csv('../private/testdata.csv', encoding='utf-8')\n",
    "\n",
    "# 件名と本文と差出人 : (住所)のみに絞る\n",
    "df = df[['件名', '本文', '差出人 : (住所)']]\n",
    "#df.head()\n",
    "\n",
    "# 2行目の\"本文”を取得\n",
    "text = df.iloc[1,1]\n",
    "\n",
    "text\n"
   ]
  },
  {
   "cell_type": "code",
   "execution_count": 14,
   "metadata": {},
   "outputs": [
    {
     "name": "stdout",
     "output_type": "stream",
     "text": [
      "{\n",
      "  \"id\": \"chatcmpl-7U71J6ynZLomkKo8UsCnuzeaOze1I\",\n",
      "  \"object\": \"chat.completion\",\n",
      "  \"created\": 1687411181,\n",
      "  \"model\": \"gpt-35-turbo\",\n",
      "  \"choices\": [\n",
      "    {\n",
      "      \"index\": 0,\n",
      "      \"finish_reason\": \"stop\",\n",
      "      \"message\": {\n",
      "        \"role\": \"assistant\",\n",
      "        \"content\": \"{\\n \\\"paragraphs\\\": [\\n  \\\"\\u3053\\u3093\\u306b\\u3061\\u306f\\u3002\\u6d17\\u6fef\\u6a5f\\u304c\\u58ca\\u308c\\u305f\\u3053\\u3068\\u306b\\u95a2\\u3059\\u308b\\u76f8\\u8ac7\\u3001\\u3042\\u308a\\u304c\\u3068\\u3046\\u3054\\u3056\\u3044\\u307e\\u3057\\u305f\\u3002\\\\n\\\\n\\u6d17\\u6fef\\u6a5f\\u304c\\u58ca\\u308c\\u3066\\u3057\\u307e\\u3063\\u305f\\u3053\\u3068\\u306f\\u5927\\u5909\\u7533\\u3057\\u8a33\\u3042\\u308a\\u307e\\u305b\\u3093\\u3002\\u4fdd\\u8a3c\\u671f\\u9593\\u5185\\u3067\\u3059\\u306e\\u3067\\u3001\\u7121\\u511f\\u3067\\u4fee\\u7406\\u3055\\u305b\\u3066\\u3044\\u305f\\u3060\\u304d\\u307e\\u3059\\u3002\\\\n\\\\n\\u4fee\\u7406\\u306e\\u624b\\u9806\\u306f\\u4ee5\\u4e0b\\u306e\\u901a\\u308a\\u3067\\u3059\\u3002\\\\n\\\\n1.\\\\t\\u304a\\u5ba2\\u69d8\\u306e\\u304a\\u4f4f\\u307e\\u3044\\u306e\\u5730\\u57df\\u306b\\u3042\\u308b\\u4fee\\u7406\\u30bb\\u30f3\\u30bf\\u30fc\\u306b\\u304a\\u96fb\\u8a71\\u304f\\u3060\\u3055\\u3044\\u3002\\u96fb\\u8a71\\u756a\\u53f7\\u306f\\u4ee5\\u4e0b\\u306e\\u30ea\\u30f3\\u30af\\u304b\\u3089\\u3054\\u78ba\\u8a8d\\u3044\\u305f\\u3060\\u3051\\u307e\\u3059\\u3002\\\\n2.\\\\t\\u4fee\\u7406\\u30bb\\u30f3\\u30bf\\u30fc\\u306e\\u62c5\\u5f53\\u8005\\u304c\\u3001\\u6d17\\u6fef\\u6a5f\\u306e\\u578b\\u756a\\u3068\\u6545\\u969c\\u72b6\\u6cc1\\u3092\\u304a\\u4f3a\\u3044\\u3057\\u307e\\u3059\\u3002\\u307e\\u305f\\u3001\\u4fee\\u7406\\u65e5\\u6642\\u3068\\u4fee\\u7406\\u8cbb\\u7528\\uff08\\u7121\\u6599\\uff09\\u3092\\u304a\\u77e5\\u3089\\u305b\\u3057\\u307e\\u3059\\u3002\\\\n3.\\\\t\\u4fee\\u7406\\u65e5\\u6642\\u306b\\u5408\\u308f\\u305b\\u3066\\u3001\\u4fee\\u7406\\u30bb\\u30f3\\u30bf\\u30fc\\u304b\\u3089\\u6d3e\\u9063\\u3055\\u308c\\u305f\\u6280\\u8853\\u8005\\u304c\\u304a\\u5ba2\\u69d8\\u306e\\u3054\\u81ea\\u5b85\\u306b\\u4f3a\\u3044\\u307e\\u3059\\u3002\\u6280\\u8853\\u8005\\u304c\\u6d17\\u6fef\\u6a5f\\u3092\\u70b9\\u691c\\u3057\\u3001\\u4fee\\u7406\\u3057\\u307e\\u3059\\u3002\\\\n4.\\\\t\\u4fee\\u7406\\u304c\\u5b8c\\u4e86\\u3057\\u305f\\u3089\\u3001\\u6280\\u8853\\u8005\\u304c\\u52d5\\u4f5c\\u78ba\\u8a8d\\u3092\\u884c\\u3044\\u307e\\u3059\\u3002\\u307e\\u305f\\u3001\\u4fee\\u7406\\u5185\\u5bb9\\u3068\\u4fdd\\u8a3c\\u66f8\\u3092\\u304a\\u6e21\\u3057\\u3057\\u307e\\u3059\\u3002\\\\n5.\\\\t\\u4fee\\u7406\\u5f8c\\u3082\\u4e07\\u304c\\u4e00\\u4e0d\\u5177\\u5408\\u304c\\u767a\\u751f\\u3057\\u305f\\u5834\\u5408\\u306f\\u3001\\u518d\\u5ea6\\u4fee\\u7406\\u30bb\\u30f3\\u30bf\\u30fc\\u306b\\u3054\\u9023\\u7d61\\u304f\\u3060\\u3055\\u3044\\u3002\\u8fc5\\u901f\\u306b\\u5bfe\\u5fdc\\u3055\\u305b\\u3066\\u3044\\u305f\\u3060\\u304d\\u307e\\u3059\\u3002\\\\n\\\\n\\u4ee5\\u4e0a\\u304c\\u4fee\\u7406\\u306e\\u624b\\u9806\\u3067\\u3059\\u3002\\u3054\\u4e0d\\u660e\\u306a\\u70b9\\u304c\\u3042\\u308a\\u307e\\u3057\\u305f\\u3089\\u3001\\u304a\\u6c17\\u8efd\\u306b\\u304a\\u554f\\u3044\\u5408\\u308f\\u305b\\u304f\\u3060\\u3055\\u3044\\u3002\\u3054\\u8ff7\\u60d1\\u3092\\u304a\\u304b\\u3051\\u3057\\u3066\\u7533\\u3057\\u8a33\\u3042\\u308a\\u307e\\u305b\\u3093\\u304c\\u3001\\u4f55\\u5352\\u3088\\u308d\\u3057\\u304f\\u304a\\u9858\\u3044\\u3057\\u307e\\u3059\\u3002\\\",\\n  \\\"2023\\u5e746\\u670822\\u65e5(\\u6728) 12:19 Shuji Yamaguchi (CSA DEV ADVOCATE) <Shuji.Yamaguchi@microsoft.com <mailto:Shuji.Yamaguchi@microsoft.com> >:\\\\n\\\\n\\\\t\\u3053\\u3093\\u306b\\u3061\\u306f\\u3002\\u5148\\u65e5\\u8cfc\\u5165\\u3057\\u305f\\u6d17\\u6fef\\u6a5f\\u304c\\u58ca\\u308c\\u3066\\u3057\\u307e\\u3044\\u307e\\u3057\\u305f\\u3002\\\\n\\\\n\\\\t\\u6d17\\u6fef\\u4e2d\\u306b\\u7570\\u97f3\\u304c\\u3057\\u3066\\u6b62\\u307e\\u3063\\u3066\\u3057\\u307e\\u3044\\u3001\\u518d\\u8d77\\u52d5\\u3082\\u3067\\u304d\\u307e\\u305b\\u3093\\u3067\\u3057\\u305f\\u3002\\\\n\\\\n\\\\t\\u4fdd\\u8a3c\\u671f\\u9593\\u5185\\u3067\\u3059\\u304c\\u3001\\u4fee\\u7406\\u306b\\u306f\\u3069\\u3046\\u3059\\u308c\\u3070\\u3044\\u3044\\u3067\\u3057\\u3087\\u3046\\u304b\\uff1f\\\\n\\\\n\\\\t\\u8fd4\\u4fe1\\u3092\\u304a\\u5f85\\u3061\\u3057\\u3066\\u3044\\u307e\\u3059\\u3002\\u3088\\u308d\\u3057\\u304f\\u304a\\u9858\\u3044\\u3057\\u307e\\u3059\\u3002\\\"\\n ]\\n}\"\n",
      "      }\n",
      "    }\n",
      "  ],\n",
      "  \"usage\": {\n",
      "    \"completion_tokens\": 653,\n",
      "    \"prompt_tokens\": 821,\n",
      "    \"total_tokens\": 1474\n",
      "  }\n",
      "}\n",
      "{\n",
      " \"paragraphs\": [\n",
      "  \"こんにちは。洗濯機が壊れたことに関する相談、ありがとうございました。\\n\\n洗濯機が壊れてしまったことは大変申し訳ありません。保証期間内ですので、無償で修理させていただきます。\\n\\n修理の手順は以下の通りです。\\n\\n1.\\tお客様のお住まいの地域にある修理センターにお電話ください。電話番号は以下のリンクからご確認いただけます。\\n2.\\t修理センターの担当者が、洗濯機の型番と故障状況をお伺いします。また、修理日時と修理費用（無料）をお知らせします。\\n3.\\t修理日時に合わせて、修理センターから派遣された技術者がお客様のご自宅に伺います。技術者が洗濯機を点検し、修理します。\\n4.\\t修理が完了したら、技術者が動作確認を行います。また、修理内容と保証書をお渡しします。\\n5.\\t修理後も万が一不具合が発生した場合は、再度修理センターにご連絡ください。迅速に対応させていただきます。\\n\\n以上が修理の手順です。ご不明な点がありましたら、お気軽にお問い合わせください。ご迷惑をおかけして申し訳ありませんが、何卒よろしくお願いします。\",\n",
      "  \"2023年6月22日(木) 12:19 Shuji Yamaguchi (CSA DEV ADVOCATE) <Shuji.Yamaguchi@microsoft.com <mailto:Shuji.Yamaguchi@microsoft.com> >:\\n\\n\\tこんにちは。先日購入した洗濯機が壊れてしまいました。\\n\\n\\t洗濯中に異音がして止まってしまい、再起動もできませんでした。\\n\\n\\t保証期間内ですが、修理にはどうすればいいでしょうか？\\n\\n\\t返信をお待ちしています。よろしくお願いします。\"\n",
      " ]\n",
      "}\n"
     ]
    }
   ],
   "source": [
    "system_prompt = \"\"\"あなたは日本語テキスト文章解析気です。\n",
    "入力されるメールのやりとりに対して、文章を読取、以下のルールで段落分けをします。\n",
    "ルール:\n",
    " - 2つ以上続く余計な改行や空白は削除します。\n",
    " - 差出人が変わる場所で、段落を分けます。\n",
    " - 同じ差出人の文章でも、内容が変わった場合は、段落を分けます。\n",
    "\"\"\"\n",
    "\n",
    "system_prompt = \"\"\"あなたは日本語テキスト文章解析器です。\n",
    "入力されるメールのやりとりに対して、文章を読取、以下のルールで文章を分割します。\n",
    "なお、分割した結果は、以下の出力フォーマットに従ってJSONのみ回答してください。\n",
    "*説明や補足などは不要です。JSONのみ回答してください。\n",
    "\n",
    "ルール:\n",
    " - 2つ以上続く余計な改行や空白は削除します。\n",
    " - 差出人が変わる場所で、文章を分割します。\n",
    " - 最後のメールが途中で切れている場合は、そのメールの文章は余りとして出力します。\n",
    "\n",
    "出力フォーマット:\n",
    "{\n",
    "    paragraphs: [\"メール1\",\"メール2\"],\n",
    "    surplus: \"メール3途中まで\"\n",
    "}\n",
    "\"\"\"\n",
    "\n",
    "user_prompt = text\n",
    "\n",
    "messages =  [\n",
    "{'role':'system', 'content':system_prompt},\n",
    "{'role':'user', 'content':user_prompt},\n",
    "]\n",
    "response = get_completion_from_messages(messages, temperature=1)\n",
    "print(response)"
   ]
  },
  {
   "cell_type": "code",
   "execution_count": null,
   "metadata": {},
   "outputs": [],
   "source": []
  }
 ],
 "metadata": {
  "kernelspec": {
   "display_name": ".venv",
   "language": "python",
   "name": "python3"
  },
  "language_info": {
   "codemirror_mode": {
    "name": "ipython",
    "version": 3
   },
   "file_extension": ".py",
   "mimetype": "text/x-python",
   "name": "python",
   "nbconvert_exporter": "python",
   "pygments_lexer": "ipython3",
   "version": "3.11.1"
  },
  "orig_nbformat": 4
 },
 "nbformat": 4,
 "nbformat_minor": 2
}
