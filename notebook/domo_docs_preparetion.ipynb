{
 "cells": [
  {
   "cell_type": "code",
   "execution_count": null,
   "metadata": {},
   "outputs": [],
   "source": [
    "from docx import Document\n",
    "\n",
    "document = Document('C:/Users/shyamagu/Downloads/test3.docx')\n",
    "alltext = \"\"\n",
    "for i, p in enumerate(document.paragraphs):\n",
    "    alltext += p.text\n",
    "    alltext += \"\\n\"\n",
    "\n",
    "#print(alltext)"
   ]
  },
  {
   "cell_type": "code",
   "execution_count": null,
   "metadata": {},
   "outputs": [],
   "source": [
    "# CSVファイルの読み込み\n",
    "import pandas as pd\n",
    "#df = pd.read_csv('../private/testdata.csv', encoding='utf-8')\n",
    "\n",
    "df = pd.read_csv('C:/Users/xxxxx/Downloads/openaisr2.CSV', encoding='utf-8')\n",
    "#1件目の本文を取得\n",
    "text = df.iloc[0]['本文']\n",
    "\n",
    "import tiktoken\n",
    "\n",
    "encoding_35 = tiktoken.encoding_for_model(\"gpt-3.5-turbo-0301\")\n",
    "encoding = tiktoken.get_encoding(encoding_35.name)\n",
    "num_tokens = len(encoding.encode(text))\n",
    "\n",
    "print(num_tokens)\n"
   ]
  },
  {
   "cell_type": "code",
   "execution_count": null,
   "metadata": {},
   "outputs": [],
   "source": [
    "import os\n",
    "import openai\n",
    "from dotenv import load_dotenv, find_dotenv\n",
    "_ = load_dotenv(find_dotenv()) # read local .env file\n",
    "\n",
    "openai.api_key  = os.getenv('AOAI_API_KEY')\n",
    "openai.api_type = \"azure\"\n",
    "openai.api_base = os.getenv('AOAI_ENDPOINT')\n",
    "openai.api_version = \"2023-05-15\"\n",
    "\n",
    "def get_completion_from_messages(messages,temperature=0):\n",
    "    response = openai.ChatCompletion.create(\n",
    "        engine=os.getenv('AOAI_MODEL'),\n",
    "        messages=messages,\n",
    "        temperature=temperature, # this is the degree of randomness of the model's output\n",
    "    )\n",
    "\n",
    "    print(response.usage)\n",
    "\n",
    "    return response.choices[0].message[\"content\"]"
   ]
  },
  {
   "cell_type": "code",
   "execution_count": null,
   "metadata": {},
   "outputs": [],
   "source": [
    "def formatText(text):\n",
    "    text = text.replace(\"\\r\\n\", \"\\n\")\n",
    "    text = text.replace(\"\\n\\n\", \"\\n\")\n",
    "    text = text.replace(\"  \", \" \")\n",
    "    return text"
   ]
  },
  {
   "cell_type": "code",
   "execution_count": null,
   "metadata": {},
   "outputs": [],
   "source": [
    "text = formatText(text)\n",
    "\n",
    "encoded = encoding.encode(text)\n",
    "\n",
    "num_tokens = len(encoded)\n",
    "\n",
    "print(num_tokens)"
   ]
  },
  {
   "cell_type": "code",
   "execution_count": null,
   "metadata": {},
   "outputs": [],
   "source": [
    "def analyzedText(text):\n",
    "    system_prompt = \"\"\"あなたは日本語テキスト文章解析器です。検索インデックス作成のため、入力された文章を検索対象として意味のあるチャンク単位に分割します。\n",
    "チャンクは極力100文字以上300文字以下になるようにしてください。\n",
    "なお、入力される文章は長文の一部の可能性があります。\n",
    "\n",
    "分割した結果は、以下の出力フォーマットに従ってJSONのみ回答してください。\n",
    "**説明や補足などは不要です。JSONのみ回答してください。**\n",
    "\n",
    "JSONフォーマット:\n",
    "[\n",
    "    {\n",
    "        \"chunk\": \"チャンク1\",\n",
    "    },\n",
    "    {\n",
    "        \"chunk\": \"チャンク2\",\n",
    "    }\n",
    "]\n",
    "\"\"\"\n",
    "\n",
    "    user_prompt = text\n",
    "    \n",
    "    messages =  [\n",
    "    {'role':'system', 'content':system_prompt},\n",
    "    {'role':'user', 'content':user_prompt},\n",
    "    ]\n",
    "    response = get_completion_from_messages(messages, temperature=0)\n",
    "    print(response)\n",
    "    return response\n",
    "    #平文のresponseをJSONに変換\n",
    "    import json\n",
    "    response_json = json.loads(response)\n",
    "    return response_json\n"
   ]
  },
  {
   "cell_type": "code",
   "execution_count": null,
   "metadata": {},
   "outputs": [],
   "source": [
    "result_str = []\n",
    "for i in range(0, num_tokens, 1800):\n",
    "    start = 0\n",
    "    if i-400 >= 0:\n",
    "        start = i-400\n",
    "    text = encoding.decode(encoded[start:i+1800])\n",
    "    res = analyzedText(text)\n",
    "    result_str.append(res)"
   ]
  },
  {
   "cell_type": "code",
   "execution_count": null,
   "metadata": {},
   "outputs": [],
   "source": []
  }
 ],
 "metadata": {
  "kernelspec": {
   "display_name": ".venv",
   "language": "python",
   "name": "python3"
  },
  "language_info": {
   "name": "python",
   "version": "3.11.1"
  },
  "orig_nbformat": 4
 },
 "nbformat": 4,
 "nbformat_minor": 2
}
