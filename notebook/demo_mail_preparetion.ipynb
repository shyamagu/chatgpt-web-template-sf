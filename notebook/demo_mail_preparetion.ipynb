{
 "cells": [
  {
   "cell_type": "code",
   "execution_count": 15,
   "metadata": {},
   "outputs": [],
   "source": [
    "import os\n",
    "import openai\n",
    "from dotenv import load_dotenv, find_dotenv\n",
    "_ = load_dotenv(find_dotenv()) # read local .env file\n",
    "\n",
    "openai.api_key  = os.getenv('AOAI_API_KEY')\n",
    "openai.api_type = \"azure\"\n",
    "openai.api_base = os.getenv('AOAI_ENDPOINT')\n",
    "openai.api_version = \"2023-05-15\"\n",
    "\n",
    "def get_completion_from_messages(messages,temperature=0):\n",
    "    response = openai.ChatCompletion.create(\n",
    "        engine=os.getenv('AOAI_MODEL'),\n",
    "        messages=messages,\n",
    "        temperature=temperature, # this is the degree of randomness of the model's output\n",
    "    )\n",
    "\n",
    "    print(response.usage)\n",
    "\n",
    "    return response.choices[0].message[\"content\"]"
   ]
  },
  {
   "cell_type": "code",
   "execution_count": 21,
   "metadata": {},
   "outputs": [
    {
     "data": {
      "text/plain": [
       "'こんにちは。洗濯機が壊れたことに関する相談、ありがとうございました。 \\n洗濯機が壊れてしまったことは大変申し訳ありません。 保証期間内ですので、無償で修理させていただきます。 \\n修理の手順は以下の通りです。\\n1.\\tお客様のお住まいの地域にある修理センターにお電話ください。電話番号は以下のリンクからご確認いただけます。\\n2.\\t修理センターの担当者が、洗濯機の型番と故障状況をお伺いします。また、修理日時と修理費用（無料）をお知らせします。\\n3.\\t修理日時に合わせて、修理センターから派遣された技術者がお客様のご自宅に伺います。技術者が洗濯機を点検し、修理します。\\n4.\\t修理が完了したら、技術者が動作確認を行います。また、修理内容と保証書をお渡しします。\\n5.\\t修理後も万が一不具合が発生した場合は、再度修理センターにご連絡ください。迅速に対応させていただきます。\\n\\n以上が修理の手順です。ご不明な点がありましたら、お気軽にお問い合わせください。 ご迷惑をおかけして申し訳ありませんが、何卒よろしくお願いします。\\n2023年6月22日(木) 12:19 Shuji Yamaguchi (CSA DEV ADVOCATE) <Shuji.Yamaguchi@microsoft.com <mailto:Shuji.Yamaguchi@microsoft.com> >:\\n\\n\\tこんにちは。先日購入した洗濯機が壊れてしまいました。\\n\\t洗濯中に異音がして止まってしまい、再起動もできませんでした。\\n\\t保証期間内ですが、修理にはどうすればいいでしょうか？ \\n\\t返信をお待ちしています。 よろしくお願いします。\\n'"
      ]
     },
     "execution_count": 21,
     "metadata": {},
     "output_type": "execute_result"
    }
   ],
   "source": [
    "# CSVファイルの読み込み\n",
    "import pandas as pd\n",
    "df = pd.read_csv('../private/testdata.csv', encoding='utf-8')\n",
    "\n",
    "# 件名と本文と差出人 : (住所)のみに絞る\n",
    "df = df[['件名', '本文', '差出人 : (住所)']]\n",
    "#df.head()\n",
    "\n",
    "# 2行目の\"本文”を取得\n",
    "text = df.iloc[1,1]\n",
    "\n",
    "# textから2つ続く改行を削除\n",
    "text = text.replace(\"\\r\\n\", \"\\n\")\n",
    "text = text.replace(\"\\n\\n\", \"\\n\")\n",
    "\n",
    "# textから2個以上多く続く空白を1つの空白に置換\n",
    "text = text.replace(\"  \", \" \")\n",
    "\n",
    "text\n"
   ]
  },
  {
   "cell_type": "code",
   "execution_count": 26,
   "metadata": {},
   "outputs": [],
   "source": [
    "import tiktoken\n",
    "\n",
    "encoding_35 = tiktoken.encoding_for_model(\"gpt-3.5-turbo-0301\")\n",
    "\n",
    "def calc_token_tiktoken(text):\n",
    "    encoding = tiktoken.get_encoding(encoding_35.name)\n",
    "    num_tokens = len(encoding.encode(text))\n",
    "    return num_tokens\n"
   ]
  },
  {
   "cell_type": "code",
   "execution_count": 23,
   "metadata": {},
   "outputs": [],
   "source": [
    "def getAnalyedMailContent(text):\n",
    "    system_prompt = \"\"\"あなたは日本語テキスト文章解析器です。\n",
    "入力されるメールのやりとりに対して、文章を読取、以下のルールで文章を分割します。\n",
    "なお、分割した結果は、以下の出力フォーマットに従ってJSONのみ回答してください。\n",
    "*説明や補足などは不要です。JSONのみ回答してください。\n",
    "\n",
    "ルール:\n",
    " - 差出人が変わる場所で、文章を分割します。\n",
    " - 最後のメールが途中で切れている場合は、そのメールの文章は余りとして出力します。\n",
    "\n",
    "出力フォーマット:\n",
    "{\n",
    "    paragraphs: [\"メール1\",\"メール2\"],\n",
    "    surplus: \"メール3途中まで\"\n",
    "}\n",
    "\"\"\"\n",
    "\n",
    "    user_prompt = text\n",
    "\n",
    "    messages =  [\n",
    "    {'role':'system', 'content':system_prompt},\n",
    "    {'role':'user', 'content':user_prompt},\n",
    "    ]\n",
    "    response = get_completion_from_messages(messages, temperature=1)\n",
    "\n",
    "    #平文のresponseをJSONに変換\n",
    "    import json\n",
    "    response_json = json.loads(response)\n",
    "    return response_json\n"
   ]
  },
  {
   "cell_type": "code",
   "execution_count": 28,
   "metadata": {},
   "outputs": [
    {
     "name": "stdout",
     "output_type": "stream",
     "text": [
      "625\n"
     ]
    },
    {
     "name": "stdout",
     "output_type": "stream",
     "text": [
      "{\n",
      "  \"completion_tokens\": 599,\n",
      "  \"prompt_tokens\": 841,\n",
      "  \"total_tokens\": 1440\n",
      "}\n"
     ]
    }
   ],
   "source": [
    "print(calc_token_tiktoken(text))\n",
    "res = getAnalyedMailContent(text)"
   ]
  },
  {
   "cell_type": "code",
   "execution_count": 29,
   "metadata": {},
   "outputs": [
    {
     "data": {
      "text/plain": [
       "{'paragraphs': ['こんにちは。洗濯機が壊れたことに関する相談、ありがとうございました。 \\n洗濯機が壊れてしまったことは大変申し訳ありません。 保証期間内ですので、無償で修理させていただきます。 \\n修理の手順は以下の通りです。\\n1.\\tお客様のお住まいの地域にある修理センターにお電話ください。電話番号は以下のリンクからご確認いただけます。\\n2.\\t修理センターの担当者が、洗濯機の型番と故障状況をお伺いします。また、修理日時と修理費用（無料）をお知らせします。\\n3.\\t修理日時に合わせて、修理センターから派遣された技術者がお客様のご自宅に伺います。技術者が洗濯機を点検し、修理します。\\n4.\\t修理が完了したら、技術者が動作確認を行います。また、修理内容と保証書をお渡しします。\\n5.\\t修理後も万が一不具合が発生した場合は、再度修理センターにご連絡ください。迅速に対応させていただきます。\\n\\n以上が修理の手順です。ご不明な点がありましたら、お気軽にお問い合わせください。 ご迷惑をおかけして申し訳ありませんが、何卒よろしくお願いします。',\n",
       "  'こんにちは。先日購入した洗濯機が壊れてしまいました。\\n洗濯中に異音がして止まってしまい、再起動もできませんでした。\\n保証期間内ですが、修理にはどうすればいいでしょうか？ \\n返信をお待ちしています。 よろしくお願いします。'],\n",
       " 'surplus': ''}"
      ]
     },
     "execution_count": 29,
     "metadata": {},
     "output_type": "execute_result"
    }
   ],
   "source": [
    "res"
   ]
  },
  {
   "cell_type": "code",
   "execution_count": null,
   "metadata": {},
   "outputs": [],
   "source": []
  }
 ],
 "metadata": {
  "kernelspec": {
   "display_name": ".venv",
   "language": "python",
   "name": "python3"
  },
  "language_info": {
   "codemirror_mode": {
    "name": "ipython",
    "version": 3
   },
   "file_extension": ".py",
   "mimetype": "text/x-python",
   "name": "python",
   "nbconvert_exporter": "python",
   "pygments_lexer": "ipython3",
   "version": "3.11.1"
  },
  "orig_nbformat": 4
 },
 "nbformat": 4,
 "nbformat_minor": 2
}
