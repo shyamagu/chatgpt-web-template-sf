{
 "cells": [
  {
   "cell_type": "code",
   "execution_count": null,
   "metadata": {},
   "outputs": [],
   "source": [
    "customer_order = \"\"\"醤油ラーメンをください。野菜は大盛で、ニンニクも入れてください。\n",
    "味は濃いめ、麺は固めでお願いします。\n",
    "\"\"\"\n",
    "\n",
    "order_template = \"\"\"以下の注文情報に基づいて以下の情報を抽出して下さい。\n",
    "\n",
    "ramen_type: ラーメンの種類\n",
    "add_vegetable: 野菜の量\n",
    "add_garlic: ニンニクの有無\n",
    "taste: 味の濃さ\n",
    "noodle: 麺の固さ\n",
    "\n",
    "出力フォーマットはJSONで、以下の要素を持ちます。\n",
    "ramen_type\n",
    "add_vegetable\n",
    "add_garlic\n",
    "taste\n",
    "noodle\n",
    "\n",
    "\n",
    "注文情報: {order}\n",
    "\"\"\""
   ]
  },
  {
   "cell_type": "code",
   "execution_count": null,
   "metadata": {},
   "outputs": [],
   "source": [
    "from langchain.output_parsers import ResponseSchema\n",
    "from langchain.output_parsers import StructuredOutputParser\n",
    "\n",
    "ramen_type_schema = ResponseSchema(name=\"ramen_type\",\n",
    "                                        description=\"ラーメンの種類、指定が無い場合は醤油ラーメン\")\n",
    "add_vegetable_schema = ResponseSchema(name=\"add_vegetable\",\n",
    "                                        description=\"野菜の量、指定が無い場合は普通盛\")\n",
    "add_garlic_schema = ResponseSchema(name=\"add_garlic\",\n",
    "                                        description=\"ニンニクの有無、指定が無い場合は無\")\n",
    "taste_schema = ResponseSchema(name=\"taste\",\n",
    "                                        description=\"味の濃さ、指定が無い場合は普通\")\n",
    "noodle_schema = ResponseSchema(name=\"noodle\",\n",
    "                                        description=\"麺の固さ、指定が無い場合は普通\")\n",
    "\n",
    "\n",
    "response_schemas = [ramen_type_schema, add_vegetable_schema, add_garlic_schema, taste_schema, noodle_schema]\n",
    "output_parser = StructuredOutputParser.from_response_schemas(response_schemas)"
   ]
  },
  {
   "cell_type": "code",
   "execution_count": null,
   "metadata": {},
   "outputs": [],
   "source": [
    "format_instructions = output_parser.get_format_instructions()\n",
    "print(format_instructions)"
   ]
  },
  {
   "cell_type": "code",
   "execution_count": null,
   "metadata": {},
   "outputs": [],
   "source": [
    "from langchain.prompts import ChatPromptTemplate\n",
    "\n",
    "prompt = ChatPromptTemplate.from_template(template=order_template)\n",
    "\n",
    "messages = prompt.format_messages(order=customer_order, \n",
    "                                format_instructions=format_instructions)"
   ]
  },
  {
   "cell_type": "code",
   "execution_count": null,
   "metadata": {},
   "outputs": [],
   "source": [
    "print(messages[0].content)"
   ]
  },
  {
   "cell_type": "code",
   "execution_count": null,
   "metadata": {},
   "outputs": [],
   "source": [
    "import os\n",
    "import openai\n",
    "from dotenv import load_dotenv, find_dotenv\n",
    "_ = load_dotenv(find_dotenv()) # read local .env file\n",
    "from langchain.chat_models import AzureChatOpenAI\n",
    "\n",
    "chat = AzureChatOpenAI(\n",
    "    openai_api_base=os.getenv('AOAI_ENDPOINT'),\n",
    "    openai_api_version=\"2023-05-15\",\n",
    "    deployment_name=os.getenv('AOAI_MODEL'),\n",
    "    openai_api_key=os.getenv('AOAI_API_KEY'),\n",
    "    openai_api_type = \"azure\",\n",
    "    temperature=0.0,\n",
    ")\n",
    "response = chat(messages)"
   ]
  },
  {
   "cell_type": "code",
   "execution_count": null,
   "metadata": {},
   "outputs": [],
   "source": [
    "print(response.content)"
   ]
  },
  {
   "cell_type": "code",
   "execution_count": null,
   "metadata": {},
   "outputs": [],
   "source": [
    "output_dict = output_parser.parse(response.content)"
   ]
  },
  {
   "cell_type": "code",
   "execution_count": null,
   "metadata": {},
   "outputs": [],
   "source": [
    "output_dict"
   ]
  },
  {
   "cell_type": "code",
   "execution_count": null,
   "metadata": {},
   "outputs": [],
   "source": [
    "type(output_dict)"
   ]
  },
  {
   "cell_type": "code",
   "execution_count": null,
   "metadata": {},
   "outputs": [],
   "source": [
    "output_dict.get('taste')"
   ]
  },
  {
   "cell_type": "code",
   "execution_count": null,
   "metadata": {},
   "outputs": [],
   "source": []
  }
 ],
 "metadata": {
  "kernelspec": {
   "display_name": "openainotebook",
   "language": "python",
   "name": "python3"
  },
  "language_info": {
   "codemirror_mode": {
    "name": "ipython",
    "version": 3
   },
   "file_extension": ".py",
   "mimetype": "text/x-python",
   "name": "python",
   "nbconvert_exporter": "python",
   "pygments_lexer": "ipython3",
   "version": "3.11.1"
  },
  "orig_nbformat": 4
 },
 "nbformat": 4,
 "nbformat_minor": 2
}
