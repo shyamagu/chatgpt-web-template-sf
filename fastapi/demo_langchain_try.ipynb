{
 "cells": [
  {
   "cell_type": "code",
   "execution_count": 44,
   "metadata": {},
   "outputs": [],
   "source": [
    "customer_order = \"\"\"醤油ラーメンを3つ、うち1つは大盛にして下さい。\n",
    "あとビールの大ジョッキを3つください。\n",
    "\"\"\"\n",
    "\n",
    "order_template = \"\"\"以下の注文情報に基づいて以下の情報を抽出して下さい。\n",
    "order_item: 種類ごとの商品名(item_name)とその個数(item_count)\n",
    "\n",
    "出力JSONはorder_itemのリストで、order_itemの要素は以下のような形式です。\n",
    "order_item:{{item_name:<商品名>,item_count:<個数>}}\n",
    "\n",
    "注文情報: {order}\n",
    "\"\"\""
   ]
  },
  {
   "cell_type": "code",
   "execution_count": 45,
   "metadata": {},
   "outputs": [],
   "source": [
    "from langchain.output_parsers import ResponseSchema\n",
    "from langchain.output_parsers import StructuredOutputParser\n",
    "\n",
    "order_item_schema = ResponseSchema(name=\"order_item\",\n",
    "                             description=\"商品名と個数をもった注文情報\")\n",
    "item_name_schema = ResponseSchema(name=\"item_name\",\n",
    "                             description=\"商品名、大盛と普通盛は別種類とする\")\n",
    "item_count_schema = ResponseSchema(name=\"item_count\",\n",
    "                                      description=\"商品の個数、指定が無い場合は1とする\")\n",
    "\n",
    "response_schemas = [order_item_schema, item_name_schema, item_count_schema]\n",
    "\n",
    "output_parser = StructuredOutputParser.from_response_schemas(response_schemas)"
   ]
  },
  {
   "cell_type": "code",
   "execution_count": 46,
   "metadata": {},
   "outputs": [
    {
     "name": "stdout",
     "output_type": "stream",
     "text": [
      "The output should be a markdown code snippet formatted in the following schema, including the leading and trailing \"```json\" and \"```\":\n",
      "\n",
      "```json\n",
      "{\n",
      "\t\"order_item\": string  // 商品名と個数をもった注文情報\n",
      "\t\"item_name\": string  // 商品名、大盛と普通盛は別種類とする\n",
      "\t\"item_count\": string  // 商品の個数、指定が無い場合は1とする\n",
      "}\n",
      "```\n"
     ]
    }
   ],
   "source": [
    "format_instructions = output_parser.get_format_instructions()\n",
    "print(format_instructions)"
   ]
  },
  {
   "cell_type": "code",
   "execution_count": 47,
   "metadata": {},
   "outputs": [],
   "source": [
    "from langchain.prompts import ChatPromptTemplate\n",
    "\n",
    "prompt = ChatPromptTemplate.from_template(template=order_template)\n",
    "\n",
    "messages = prompt.format_messages(order=customer_order, \n",
    "                                format_instructions=format_instructions)"
   ]
  },
  {
   "cell_type": "code",
   "execution_count": 48,
   "metadata": {},
   "outputs": [
    {
     "name": "stdout",
     "output_type": "stream",
     "text": [
      "以下の注文情報に基づいて以下の情報を抽出して下さい。\n",
      "order_item: 種類ごとの商品名(item_name)とその個数(item_count)\n",
      "\n",
      "出力JSONはorder_itemのリストで、order_itemの要素は以下のような形式です。\n",
      "order_item:\n",
      "    item_name\n",
      "    item_count\n",
      "\n",
      "注文情報: 醤油ラーメンを3つ、うち1つは大盛にして下さい。\n",
      "あとビールの大ジョッキを3つください。\n",
      "\n",
      "\n"
     ]
    }
   ],
   "source": [
    "print(messages[0].content)"
   ]
  },
  {
   "cell_type": "code",
   "execution_count": 49,
   "metadata": {},
   "outputs": [],
   "source": [
    "import os\n",
    "import openai\n",
    "from dotenv import load_dotenv, find_dotenv\n",
    "_ = load_dotenv(find_dotenv()) # read local .env file\n",
    "from langchain.chat_models import AzureChatOpenAI\n",
    "\n",
    "chat = AzureChatOpenAI(\n",
    "    openai_api_base=os.getenv('AOAI_ENDPOINT'),\n",
    "    openai_api_version=\"2023-05-15\",\n",
    "    deployment_name=os.getenv('AOAI_MODEL'),\n",
    "    openai_api_key=os.getenv('AOAI_API_KEY'),\n",
    "    openai_api_type = \"azure\",\n",
    "    temperature=0.0,\n",
    ")\n",
    "response = chat(messages)"
   ]
  },
  {
   "cell_type": "code",
   "execution_count": 50,
   "metadata": {},
   "outputs": [
    {
     "name": "stdout",
     "output_type": "stream",
     "text": [
      "[\n",
      "  {\n",
      "    \"item_name\": \"醤油ラーメン\",\n",
      "    \"item_count\": 2\n",
      "  },\n",
      "  {\n",
      "    \"item_name\": \"大盛醤油ラーメン\",\n",
      "    \"item_count\": 1\n",
      "  },\n",
      "  {\n",
      "    \"item_name\": \"ビールの大ジョッキ\",\n",
      "    \"item_count\": 3\n",
      "  }\n",
      "]\n"
     ]
    }
   ],
   "source": [
    "print(response.content)"
   ]
  },
  {
   "cell_type": "code",
   "execution_count": 51,
   "metadata": {},
   "outputs": [
    {
     "ename": "OutputParserException",
     "evalue": "Got invalid return object. Expected key `order_item` to be present, but got [{'item_name': '醤油ラーメン', 'item_count': 2}, {'item_name': '大盛醤油ラーメン', 'item_count': 1}, {'item_name': 'ビールの大ジョッキ', 'item_count': 3}]",
     "output_type": "error",
     "traceback": [
      "\u001b[1;31m---------------------------------------------------------------------------\u001b[0m",
      "\u001b[1;31mOutputParserException\u001b[0m                     Traceback (most recent call last)",
      "Cell \u001b[1;32mIn[51], line 1\u001b[0m\n\u001b[1;32m----> 1\u001b[0m output_dict \u001b[39m=\u001b[39m output_parser\u001b[39m.\u001b[39;49mparse(response\u001b[39m.\u001b[39;49mcontent)\n",
      "File \u001b[1;32mc:\\Users\\shyamagu\\Anaconda3\\envs\\openainotebook\\lib\\site-packages\\langchain\\output_parsers\\structured.py:43\u001b[0m, in \u001b[0;36mStructuredOutputParser.parse\u001b[1;34m(self, text)\u001b[0m\n\u001b[0;32m     41\u001b[0m \u001b[39mdef\u001b[39;00m \u001b[39mparse\u001b[39m(\u001b[39mself\u001b[39m, text: \u001b[39mstr\u001b[39m) \u001b[39m-\u001b[39m\u001b[39m>\u001b[39m Any:\n\u001b[0;32m     42\u001b[0m     expected_keys \u001b[39m=\u001b[39m [rs\u001b[39m.\u001b[39mname \u001b[39mfor\u001b[39;00m rs \u001b[39min\u001b[39;00m \u001b[39mself\u001b[39m\u001b[39m.\u001b[39mresponse_schemas]\n\u001b[1;32m---> 43\u001b[0m     \u001b[39mreturn\u001b[39;00m parse_and_check_json_markdown(text, expected_keys)\n",
      "File \u001b[1;32mc:\\Users\\shyamagu\\Anaconda3\\envs\\openainotebook\\lib\\site-packages\\langchain\\output_parsers\\json.py:37\u001b[0m, in \u001b[0;36mparse_and_check_json_markdown\u001b[1;34m(text, expected_keys)\u001b[0m\n\u001b[0;32m     35\u001b[0m \u001b[39mfor\u001b[39;00m key \u001b[39min\u001b[39;00m expected_keys:\n\u001b[0;32m     36\u001b[0m     \u001b[39mif\u001b[39;00m key \u001b[39mnot\u001b[39;00m \u001b[39min\u001b[39;00m json_obj:\n\u001b[1;32m---> 37\u001b[0m         \u001b[39mraise\u001b[39;00m OutputParserException(\n\u001b[0;32m     38\u001b[0m             \u001b[39mf\u001b[39m\u001b[39m\"\u001b[39m\u001b[39mGot invalid return object. Expected key `\u001b[39m\u001b[39m{\u001b[39;00mkey\u001b[39m}\u001b[39;00m\u001b[39m` \u001b[39m\u001b[39m\"\u001b[39m\n\u001b[0;32m     39\u001b[0m             \u001b[39mf\u001b[39m\u001b[39m\"\u001b[39m\u001b[39mto be present, but got \u001b[39m\u001b[39m{\u001b[39;00mjson_obj\u001b[39m}\u001b[39;00m\u001b[39m\"\u001b[39m\n\u001b[0;32m     40\u001b[0m         )\n\u001b[0;32m     41\u001b[0m \u001b[39mreturn\u001b[39;00m json_obj\n",
      "\u001b[1;31mOutputParserException\u001b[0m: Got invalid return object. Expected key `order_item` to be present, but got [{'item_name': '醤油ラーメン', 'item_count': 2}, {'item_name': '大盛醤油ラーメン', 'item_count': 1}, {'item_name': 'ビールの大ジョッキ', 'item_count': 3}]"
     ]
    }
   ],
   "source": [
    "output_dict = output_parser.parse(response.content)"
   ]
  },
  {
   "cell_type": "code",
   "execution_count": null,
   "metadata": {},
   "outputs": [],
   "source": []
  }
 ],
 "metadata": {
  "kernelspec": {
   "display_name": "openainotebook",
   "language": "python",
   "name": "python3"
  },
  "language_info": {
   "codemirror_mode": {
    "name": "ipython",
    "version": 3
   },
   "file_extension": ".py",
   "mimetype": "text/x-python",
   "name": "python",
   "nbconvert_exporter": "python",
   "pygments_lexer": "ipython3",
   "version": "3.9.16"
  },
  "orig_nbformat": 4
 },
 "nbformat": 4,
 "nbformat_minor": 2
}
