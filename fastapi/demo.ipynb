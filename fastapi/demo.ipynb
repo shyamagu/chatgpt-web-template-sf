{
 "cells": [
  {
   "cell_type": "code",
   "execution_count": 15,
   "metadata": {},
   "outputs": [],
   "source": [
    "import os\n",
    "import openai\n",
    "from dotenv import load_dotenv, find_dotenv\n",
    "_ = load_dotenv(find_dotenv()) # read local .env file\n",
    "\n",
    "openai.api_key  = os.getenv('AOAI_API_KEY')\n",
    "openai.api_type = \"azure\"\n",
    "openai.api_base = os.getenv('AOAI_ENDPOINT')\n",
    "openai.api_version = \"2023-05-15\""
   ]
  },
  {
   "cell_type": "code",
   "execution_count": 21,
   "metadata": {},
   "outputs": [],
   "source": [
    "def get_completion_from_messages(messages,temperature=0):\n",
    "    response = openai.ChatCompletion.create(\n",
    "        engine=os.getenv('AOAI_MODEL'),\n",
    "        messages=messages,\n",
    "        temperature=temperature, # this is the degree of randomness of the model's output\n",
    "    )\n",
    "    # print(str(response.choices[0].message))\n",
    "\n",
    "    return response.choices[0].message[\"content\"]"
   ]
  },
  {
   "cell_type": "code",
   "execution_count": 3,
   "metadata": {},
   "outputs": [
    {
     "name": "stdout",
     "output_type": "stream",
     "text": [
      "はじめまして、山田さん。ご挨拶ありがとうございます。何かお力になれることがあれば、何でもおっしゃってください。\n"
     ]
    }
   ],
   "source": [
    "messages =  [  \n",
    "{'role':'system', 'content':'あなたはフレンドリーなAIです。'},    \n",
    "{'role':'user', 'content':'こんにちわ。私は山田です。'}  ]\n",
    "response = get_completion_from_messages(messages, temperature=1)\n",
    "print(response)"
   ]
  },
  {
   "cell_type": "code",
   "execution_count": 5,
   "metadata": {},
   "outputs": [
    {
     "name": "stdout",
     "output_type": "stream",
     "text": [
      "こんにちは。申し訳ありませんが、私はあなたの名前を覚えていません。私はあなたの声とテキストを通じて会話をしていますが、個々のユーザーの情報を記憶する機能は持っていません。\n"
     ]
    }
   ],
   "source": [
    "messages =  [  \n",
    "{'role':'system', 'content':'あなたはフレンドリーなAIです。'},    \n",
    "{'role':'user', 'content':'私のこと覚えてる？私の名前は？'}  ]\n",
    "response = get_completion_from_messages(messages, temperature=1)\n",
    "print(response)"
   ]
  },
  {
   "cell_type": "code",
   "execution_count": 8,
   "metadata": {},
   "outputs": [
    {
     "name": "stdout",
     "output_type": "stream",
     "text": [
      "はい、覚えています。お名前は山田さんですね。\n"
     ]
    }
   ],
   "source": [
    "messages =  [  \n",
    "{'role':'system', 'content':'あなたはフレンドリーなAIです。'},\n",
    "{'role':'user', 'content':'こんにちわ。私は山田です'},\n",
    "{'role':'assistant', 'content': \"こんにちは、山田さん。ご挨拶ありがとうございます。何かお手伝いできることはありますか？\"},\n",
    "{'role':'user', 'content':'私のこと覚えてる？私の名前は？'}  ]\n",
    "response = get_completion_from_messages(messages, temperature=1)\n",
    "print(response)"
   ]
  },
  {
   "cell_type": "code",
   "execution_count": 6,
   "metadata": {},
   "outputs": [
    {
     "name": "stdout",
     "output_type": "stream",
     "text": [
      "和食は季節や地域によって異なる食材や調理法を使用し、栄養バランスや美しさにも配慮した料理であり、日本の文化の重要な要素である。\n"
     ]
    }
   ],
   "source": [
    "text = f\"\"\"\n",
    "日本の文化には、さまざまな特徴があります。\n",
    "その中でも、和食は世界的にも高く評価されており、ユネスコの無形文化遺産にも登録されています。\n",
    "和食は、季節や地域によって変化する食材や調理法を生かし、栄養バランスや美しさにも配慮した料理です。\n",
    "和食には、米や魚、野菜などの自然の恵みを大切にする精神が込められており、日本人の心や身体の健康にも寄与しています。\n",
    "和食は、日本の伝統や文化を表現する重要な要素であり、今後も世界に発信していくべきです。\n",
    "\"\"\"\n",
    "\n",
    "prompt = f\"\"\"\n",
    "3重バッククォートで区切られた文章を、短く1センテンスに要約してください。\n",
    "\n",
    "```{text}```\n",
    "\"\"\"\n",
    "\n",
    "messages =  [  \n",
    "{'role':'system', 'content':prompt},\n",
    "{'role':'user', 'content':''},\n",
    "]\n",
    "response = get_completion_from_messages(messages, temperature=1)\n",
    "print(response)\n",
    "\n",
    "\n"
   ]
  },
  {
   "cell_type": "code",
   "execution_count": 10,
   "metadata": {},
   "outputs": [
    {
     "name": "stdout",
     "output_type": "stream",
     "text": [
      "[\n",
      "  {\n",
      "    \"book_id\": 1,\n",
      "    \"title\": \"The Secret Life of Bees\",\n",
      "    \"author\": \"Sue Monk Kidd\",\n",
      "    \"genre\": \"Fiction\"\n",
      "  },\n",
      "  {\n",
      "    \"book_id\": 2,\n",
      "    \"title\": \"The Wealth of Nations\",\n",
      "    \"author\": \"Adam Smith\",\n",
      "    \"genre\": \"Non-fiction\"\n",
      "  },\n",
      "  {\n",
      "    \"book_id\": 3,\n",
      "    \"title\": \"A Brief History of Time\",\n",
      "    \"author\": \"Stephen Hawking\",\n",
      "    \"genre\": \"Science\"\n",
      "  }\n",
      "]\n"
     ]
    }
   ],
   "source": [
    "prompt = f\"\"\"\n",
    "3つの架空の本のタイトルと、その著者とジャンルを含むリストを生成してください。\n",
    "次のキーでJSON形式で提供してください。\n",
    "book_id, title, author, genre\n",
    "\n",
    "**説明や装飾は不要です。出力はJSONのみ回答してください**\n",
    "\"\"\"\n",
    "messages =  [  \n",
    "{'role':'system', 'content':prompt},\n",
    "{'role':'user', 'content':''},\n",
    "]\n",
    "response = get_completion_from_messages(messages, temperature=1)\n",
    "print(response)"
   ]
  },
  {
   "cell_type": "code",
   "execution_count": 12,
   "metadata": {},
   "outputs": [
    {
     "name": "stdout",
     "output_type": "stream",
     "text": [
      "No steps provided.\n"
     ]
    }
   ],
   "source": [
    "text_1 = f\"\"\"\n",
    "まずはじめに卵を割ります。次に卵を鳥ガラスープのもととかき混ぜてから、プライパンで焼きます。\n",
    "3分ほど焼いたら、バジルを振りかけます。最後に、お皿に盛り付けて完成です。\n",
    "\"\"\"\n",
    "\n",
    "text_2 = f\"\"\"\n",
    "卵かけご飯は日本の代表的な庶民料理の1つです。\n",
    "\"\"\"\n",
    "\n",
    "prompt = f\"\"\"\n",
    "3重のクォーテーションマークで囲まれた文章が与えられます。\n",
    "もし、その文章が指示のシーケンスを含んでいたら、次のフォーマットで指示を書き直してください。\n",
    "\n",
    "Step 1 - ...\n",
    "Step 2 - …\n",
    "…\n",
    "Step N - …\n",
    "\n",
    "もし、その文章が指示のシーケンスを含んでいなかったら、単に\"No steps provided.\"と回答してください。\n",
    "\n",
    "\\\"\\\"\\\"{text_2}\\\"\\\"\\\"\n",
    "\"\"\"\n",
    "\n",
    "messages =  [  \n",
    "{'role':'system', 'content':prompt},\n",
    "{'role':'user', 'content':''},\n",
    "]\n",
    "response = get_completion_from_messages(messages, temperature=1)\n",
    "print(response)"
   ]
  },
  {
   "cell_type": "code",
   "execution_count": 18,
   "metadata": {},
   "outputs": [
    {
     "name": "stdout",
     "output_type": "stream",
     "text": [
      "レジリエンスとは、荒れ狂う海に立ち向かう岩のように、逆境や困難に直面しても、強く立ち上がり、再び前進する力のことです。\n"
     ]
    }
   ],
   "source": [
    "prompt = f\"\"\"\n",
    "あなたのタスクは、以下の比喩に富んだスタイルで一貫した回答をすることです。\n",
    "\n",
    "<子供>: 私にペイシェントについて教えてください。\n",
    "<祖父>: 最も深い峡谷を掘る川は、最もゆっくりと流れる川です。\n",
    "...\n",
    "\n",
    "<子供>: 私にレジリエンスについて教えてください。\n",
    "\"\"\"\n",
    "messages =  [  \n",
    "{'role':'system', 'content':prompt},\n",
    "{'role':'user', 'content':''},\n",
    "]\n",
    "response = get_completion_from_messages(messages, temperature=0)\n",
    "print(response)"
   ]
  },
  {
   "cell_type": "code",
   "execution_count": 19,
   "metadata": {},
   "outputs": [
    {
     "name": "stdout",
     "output_type": "stream",
     "text": [
      "レジリエンスとは、荒れ狂う海にも耐えることができる、しなやかで強靭な船のようなものです。人生の嵐が吹き荒れても、レジリエントな人は立ち上がり、前進することができます。彼らは、逆境に直面しても、自分自身を取り戻し、再び輝きを放つことができるのです。\n"
     ]
    }
   ],
   "source": [
    "prompt = f\"\"\"\n",
    "あなたのタスクは、比喩に富んだスタイルで一貫した回答をすることです。\n",
    "\"\"\"\n",
    "messages =  [  \n",
    "{'role':'system', 'content':prompt},\n",
    "{'role':'user', 'content':'私にペイシェントについて教えてください。'},\n",
    "{'role':'assistant', 'content':'最も深い峡谷を掘る川は、最もゆっくりと流れる川です。'},\n",
    "{'role':'user', 'content':'私にレジリエンスについて教えてください。'},\n",
    "]\n",
    "response = get_completion_from_messages(messages, temperature=0)\n",
    "print(response)"
   ]
  },
  {
   "cell_type": "code",
   "execution_count": 4,
   "metadata": {},
   "outputs": [
    {
     "name": "stdout",
     "output_type": "stream",
     "text": [
      "Text: 山田くんは、ある日猫を拾いました。佐藤さんと一緒に育てることにしました。猫はなんと、トラのような模様をしていました。山田くんは、猫をトラと名付けました。トラはすくすくと大きくなりました。なんと本当に虎だったのです。佐藤さんは、トラを動物園に連れて行こうとしましたが、山田くんは、トラを自分の家で飼い続けることにしました。今では最強の用心棒として、トラは山田さんと佐藤さんと暮らしています。\n",
      "\n",
      "Summary: 山田くんが拾った猫が実は虎で、山田くんと佐藤さんが飼い続けている。\n",
      "\n",
      "Translation: Yamada picked up a cat one day, which turned out to be a tiger, and he and Sato continue to keep it. \n",
      "\n",
      "Names: Yamada, Sato\n",
      "\n",
      "Output JSON: {\"english_summary\": \"Yamada picked up a cat one day, which turned out to be a tiger, and he and Sato continue to keep it.\", \"num_names\": 2}\n"
     ]
    }
   ],
   "source": [
    "text = \"\"\"\n",
    "山田くんは、ある日猫を拾いました。佐藤さんと一緒に育てることにしました。\n",
    "猫はなんと、トラのような模様をしていました。山田くんは、猫をトラと名付けました。\n",
    "トラはすくすくと大きくなりました。なんと本当に虎だったのです。\n",
    "佐藤さんは、トラを動物園に連れて行こうとしましたが、山田くんは、トラを自分の家で飼い続けることにしました。\n",
    "今では最強の用心棒として、トラは山田さんと佐藤さんと暮らしています。\n",
    "\"\"\"\n",
    "\n",
    "prompt = f\"\"\"\n",
    "以下のステップに従ってください。\n",
    "1 - <>内の文章をなるべく短い1文で簡潔に要約してください。\n",
    "2 - 要約を英語に翻訳してください。\n",
    "3 - 英語の要約から、名前をリストアップしてください。\n",
    "4 - 次のキーを含むjsonオブジェクトを出力してください。\n",
    "    - english_summary, num_names.\n",
    "\n",
    "以下のフォーマットに従って回答してください。\n",
    "Text: <要約前の元文章>\n",
    "Summary: <要約>\n",
    "Translation: <要約の翻訳>\n",
    "Names: <翻訳された英語要約の中の名前のリスト>\n",
    "Output JSON: <json with summary and num_names>\n",
    "\n",
    "Text: <{text}>\n",
    "\"\"\"\n",
    "messages =  [  \n",
    "{'role':'system', 'content':prompt},\n",
    "{'role':'user', 'content':''},\n",
    "]\n",
    "response = get_completion_from_messages(messages, temperature=0)\n",
    "print(response)"
   ]
  },
  {
   "cell_type": "code",
   "execution_count": 5,
   "metadata": {},
   "outputs": [
    {
     "name": "stdout",
     "output_type": "stream",
     "text": [
      "学生の解答は正しいです。リンゴの値段は1個100円なので、x個のリンゴを買う場合のリンゴ代は10x円になります。同様に、y本のバナナを買う場合のバナナ代は50y円になります。したがって、2000円の予算内でリンゴとバナナを買うためには、10x円のリンゴ代と50y円のバナナ代の合計が2000円未満である必要があります。これを不等式で表すと、2000 > 10x + 50yとなります。\n"
     ]
    }
   ],
   "source": [
    "prompt = f\"\"\"あなたは以下の質問に対する学生の解答が正しいか、間違っているか判断します。\n",
    "\n",
    "質問:\n",
    "```\n",
    "八百屋ではリンゴが1個100円、バナナが1本50円で売られています。\n",
    "たかしくんは2000円もっていますが、リンゴの数をx、バナナの数をyとした際の不等式を書いてください。\n",
    "``` \n",
    "学生の解答:\n",
    "```\n",
    "xをリンゴの数、yをバナナの数とすると\n",
    "値段\n",
    "1. リンゴ代: 10x\n",
    "2. バナナ代: 50y\n",
    "不等式:2000 > 10x + 50y\n",
    "```\n",
    "\"\"\"\n",
    "messages =  [  \n",
    "{'role':'system', 'content':prompt},\n",
    "{'role':'user', 'content':''},\n",
    "]\n",
    "response = get_completion_from_messages(messages, temperature=0)\n",
    "print(response)"
   ]
  },
  {
   "cell_type": "code",
   "execution_count": 23,
   "metadata": {},
   "outputs": [
    {
     "name": "stdout",
     "output_type": "stream",
     "text": [
      "{\n",
      "  \"content\": \"\\u3042\\u306a\\u305f\\u306e\\u89e3\\u7b54:\\n```\\n\\u30ea\\u30f3\\u30b4\\u306e\\u6570\\u3092x\\u3001\\u30d0\\u30ca\\u30ca\\u306e\\u6570\\u3092y\\u3068\\u3059\\u308b\\u3068\\u3001\\u4ee5\\u4e0b\\u306e\\u4e0d\\u7b49\\u5f0f\\u304c\\u6210\\u308a\\u7acb\\u3064\\u3002\\n100x + 50y <= 2000\\n```\\n\\u5b66\\u751f\\u306e\\u89e3\\u7b54\\u306f\\u3042\\u306a\\u305f\\u306e\\u89e3\\u7b54\\u3068\\u540c\\u3058\\u3067\\u3059\\u304b?\\n```\\n\\u3044\\u3044\\u3048\\n```\\n\\u5b66\\u751f\\u306e\\u89e3\\u7b54\\u306e\\u8a55\\u4fa1:\\n```\\n\\u4e0d\\u6b63\\u89e3\\n```\\n\\u6b63\\u3057\\u3044\\u4e0d\\u7b49\\u5f0f\\u306f\\u3001100x + 50y <= 2000\\u3067\\u3059\\u3002\\u5b66\\u751f\\u306e\\u89e3\\u7b54\\u3067\\u306f\\u3001\\u30ea\\u30f3\\u30b4\\u306e\\u5024\\u6bb5\\u304c10x\\u3068\\u306a\\u3063\\u3066\\u304a\\u308a\\u3001\\u8aa4\\u308a\\u304c\\u3042\\u308a\\u307e\\u3059\\u3002\",\n",
      "  \"role\": \"assistant\"\n",
      "}\n",
      "あなたの解答:\n",
      "```\n",
      "リンゴの数をx、バナナの数をyとすると、以下の不等式が成り立つ。\n",
      "100x + 50y <= 2000\n",
      "```\n",
      "学生の解答はあなたの解答と同じですか?\n",
      "```\n",
      "いいえ\n",
      "```\n",
      "学生の解答の評価:\n",
      "```\n",
      "不正解\n",
      "```\n",
      "正しい不等式は、100x + 50y <= 2000です。学生の解答では、リンゴの値段が10xとなっており、誤りがあります。\n"
     ]
    }
   ],
   "source": [
    "prompt = \"\"\"あなたは以下の質問に対する学生の解答が正しいか、間違っているか判断します。\n",
    "判断するために以下の手順に必ず従ってください。\n",
    "- まず、問題を自分で解いてください。\n",
    "- 次に、学生の解答と自分の解答を比較し、学生の解答が正しいかどうかを評価してください。\n",
    "**学生の解答が正しいかどうかは、自分で問題を解くまで決めないでください。**\n",
    "\n",
    "質問:\n",
    "```\n",
    "八百屋ではリンゴが1個100円、バナナが1本50円で売られています。\n",
    "たかしくんは2000円もっていますが、リンゴの数をx、バナナの数をyとした際の不等式を書いてください。\n",
    "``` \n",
    "\n",
    "以下のフォーマットに従って回答してください。:\n",
    "1.質問:\n",
    "```\n",
    "<質問>\n",
    "```\n",
    "2.学生の解答\n",
    "```\n",
    "<学生の解答>\n",
    "```\n",
    "3.あなたの解答\n",
    "```\n",
    "<問題を解くための手順を書く>\n",
    "```\n",
    "4.学生の解答はあなたの解答と同じですか?\n",
    "```\n",
    "<不等式が一致していれば、はい。そうでなければ、いいえ>\n",
    "```\n",
    "5.学生の解答の評価\n",
    "```\n",
    "<正解、または、不正解>\n",
    "```\n",
    "\"\"\"\n",
    "\n",
    "user_prompt = \"\"\"学生の解答:\n",
    "```\n",
    "xをリンゴの数、yをバナナの数とすると\n",
    "値段\n",
    "1. リンゴ代: 10x\n",
    "2. バナナ代: 50y\n",
    "答え: 10x + 50y < 2000\n",
    "```\n",
    "\"\"\"\n",
    "\n",
    "messages =  [  \n",
    "{'role':'system', 'content':prompt},\n",
    "{'role':'user', 'content':user_prompt},\n",
    "]\n",
    "response = get_completion_from_messages(messages, temperature=0)\n",
    "print(response)"
   ]
  },
  {
   "cell_type": "code",
   "execution_count": null,
   "metadata": {},
   "outputs": [],
   "source": []
  }
 ],
 "metadata": {
  "kernelspec": {
   "display_name": "Python 3",
   "language": "python",
   "name": "python3"
  },
  "language_info": {
   "codemirror_mode": {
    "name": "ipython",
    "version": 3
   },
   "file_extension": ".py",
   "mimetype": "text/x-python",
   "name": "python",
   "nbconvert_exporter": "python",
   "pygments_lexer": "ipython3",
   "version": "3.9.16"
  },
  "orig_nbformat": 4
 },
 "nbformat": 4,
 "nbformat_minor": 2
}
